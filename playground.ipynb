{
 "cells": [
  {
   "cell_type": "code",
   "execution_count": 10,
   "metadata": {
    "collapsed": true
   },
   "outputs": [],
   "source": [
    "import gensim\n",
    "import json\n",
    "import jieba"
   ]
  },
  {
   "cell_type": "code",
   "execution_count": 5,
   "metadata": {},
   "outputs": [],
   "source": [
    "data = json.loads(open('data/train_data.json').read())"
   ]
  },
  {
   "cell_type": "code",
   "execution_count": 8,
   "metadata": {},
   "outputs": [],
   "source": [
    "seqences = data['2']"
   ]
  },
  {
   "cell_type": "code",
   "execution_count": 11,
   "metadata": {},
   "outputs": [
    {
     "data": {
      "text/plain": [
       "[['山不在高', '有仙则名'],\n",
       " ['水不在深', '有龙则灵'],\n",
       " ['斯是陋室', '惟吾德馨'],\n",
       " ['苔痕上阶绿', '草色入帘青'],\n",
       " ['谈笑有鸿儒', '往来无白丁'],\n",
       " ['无丝竹之乱耳', '无案牍之劳形'],\n",
       " ['南阳诸葛庐', '西蜀子云亭']]"
      ]
     },
     "execution_count": 11,
     "metadata": {},
     "output_type": "execute_result"
    }
   ],
   "source": [
    "seqences"
   ]
  },
  {
   "cell_type": "code",
   "execution_count": 60,
   "metadata": {},
   "outputs": [],
   "source": [
    "cut_seq = []\n",
    "for pair in seqences:\n",
    "    ret = list(jieba.cut(pair[0])) + list(jieba.cut(pair[1]))\n",
    "    cut_seq.append(ret)"
   ]
  },
  {
   "cell_type": "code",
   "execution_count": 63,
   "metadata": {},
   "outputs": [
    {
     "data": {
      "text/plain": [
       "[['山', '不', '在', '高', '有', '仙', '则', '名'],\n",
       " ['水', '不', '在', '深', '有龙', '则', '灵'],\n",
       " ['斯是', '陋室', '惟吾德馨'],\n",
       " ['苔痕', '上阶绿', '草色', '入帘青'],\n",
       " ['谈笑', '有', '鸿儒', '往来', '无', '白丁'],\n",
       " ['无', '丝竹', '之乱', '耳', '无', '案牍之劳', '形'],\n",
       " ['南阳', '诸葛', '庐', '西蜀子', '云亭']]"
      ]
     },
     "execution_count": 63,
     "metadata": {},
     "output_type": "execute_result"
    }
   ],
   "source": [
    "cut_seq"
   ]
  },
  {
   "cell_type": "code",
   "execution_count": 64,
   "metadata": {
    "collapsed": true
   },
   "outputs": [],
   "source": [
    "sentences = w2v.Text8Corpus('sample')"
   ]
  },
  {
   "cell_type": "code",
   "execution_count": 71,
   "metadata": {},
   "outputs": [],
   "source": [
    "model = w2v.Word2Vec(sentences,min_count=1)"
   ]
  },
  {
   "cell_type": "code",
   "execution_count": 74,
   "metadata": {},
   "outputs": [
    {
     "data": {
      "text/plain": [
       "array([ -2.64362455e-03,   3.16624879e-03,   2.55336682e-03,\n",
       "        -4.79484769e-03,  -2.82001100e-03,  -2.64262874e-03,\n",
       "        -3.12824850e-04,  -5.06664110e-05,  -4.71835071e-03,\n",
       "        -3.30246473e-03,   2.33004009e-03,   1.41038990e-03,\n",
       "         1.63739093e-03,   1.98483514e-03,   2.52612308e-03,\n",
       "         3.53918324e-04,  -1.24097127e-03,   2.78720376e-03,\n",
       "        -1.02894148e-03,  -4.28439304e-03,  -1.99573580e-03,\n",
       "         1.47968833e-03,   1.12226862e-03,  -1.42790726e-03,\n",
       "         3.00520100e-03,  -3.71352653e-03,   1.41444500e-04,\n",
       "        -3.83180263e-03,   4.89919679e-03,   1.27273647e-03,\n",
       "        -2.94360938e-03,   4.14667511e-03,   4.18818265e-04,\n",
       "         1.61601231e-03,   2.32670107e-03,   1.05466461e-03,\n",
       "         2.38456926e-03,  -4.95577278e-03,  -3.15857492e-03,\n",
       "         1.05783553e-03,   2.72216438e-03,  -2.80788587e-03,\n",
       "         4.76949662e-03,  -9.01787134e-04,  -2.15272373e-03,\n",
       "         2.72127148e-03,  -3.87003878e-04,   4.40640561e-03,\n",
       "        -1.59737270e-03,   1.62577734e-03,  -4.72363504e-03,\n",
       "         8.27470329e-04,  -7.13105721e-04,   3.38549097e-03,\n",
       "        -2.62032612e-03,  -4.93900757e-03,   2.29578768e-03,\n",
       "         4.01587953e-04,   4.89983661e-03,  -4.38361848e-03,\n",
       "        -4.89828503e-03,   8.49966367e-04,  -4.68680589e-03,\n",
       "         8.91801144e-04,   4.61933017e-03,   3.95402359e-03,\n",
       "        -3.46500496e-03,   4.95646149e-03,  -5.61995781e-04,\n",
       "         1.55710848e-03,  -4.07173298e-03,   1.31197367e-03,\n",
       "         2.27709813e-03,   2.27010273e-03,  -8.86888418e-04,\n",
       "        -4.72668384e-04,  -2.07035826e-03,   4.75241803e-03,\n",
       "        -1.23985274e-05,   3.14286910e-04,  -1.94024353e-03,\n",
       "        -3.93488351e-03,  -1.68970553e-03,  -4.94815502e-03,\n",
       "        -4.13633371e-03,   1.35695806e-03,  -2.67492072e-03,\n",
       "        -1.58729125e-03,   4.56199097e-03,  -4.77219978e-03,\n",
       "         9.82050784e-04,   1.14420068e-03,   2.72403541e-03,\n",
       "         4.93523851e-03,  -4.29026037e-03,  -6.09366689e-04,\n",
       "         8.38716398e-04,   2.09220126e-03,   9.93244117e-04,\n",
       "         3.44797084e-03], dtype=float32)"
      ]
     },
     "execution_count": 74,
     "metadata": {},
     "output_type": "execute_result"
    }
   ],
   "source": [
    "model.wv['山']"
   ]
  },
  {
   "cell_type": "code",
   "execution_count": null,
   "metadata": {
    "collapsed": true
   },
   "outputs": [],
   "source": []
  }
 ],
 "metadata": {
  "kernelspec": {
   "display_name": "Python 3",
   "language": "python",
   "name": "python3"
  },
  "language_info": {
   "codemirror_mode": {
    "name": "ipython",
    "version": 3
   },
   "file_extension": ".py",
   "mimetype": "text/x-python",
   "name": "python",
   "nbconvert_exporter": "python",
   "pygments_lexer": "ipython3",
   "version": "3.6.1"
  }
 },
 "nbformat": 4,
 "nbformat_minor": 2
}
